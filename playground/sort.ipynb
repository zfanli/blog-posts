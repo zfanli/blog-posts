{
 "metadata": {
  "language_info": {
   "codemirror_mode": {
    "name": "ipython",
    "version": 3
   },
   "file_extension": ".py",
   "mimetype": "text/x-python",
   "name": "python",
   "nbconvert_exporter": "python",
   "pygments_lexer": "ipython3",
   "version": "3.8.2"
  },
  "orig_nbformat": 2,
  "kernelspec": {
   "name": "python382jvsc74a57bd031f2aee4e71d21fbe5cf8b01ff0e069b9275f58929596ceb00d14d90e3e16cd6",
   "display_name": "Python 3.8.2 64-bit"
  },
  "metadata": {
   "interpreter": {
    "hash": "31f2aee4e71d21fbe5cf8b01ff0e069b9275f58929596ceb00d14d90e3e16cd6"
   }
  }
 },
 "nbformat": 4,
 "nbformat_minor": 2,
 "cells": [
  {
   "source": [
    "# Sort problems\n",
    "\n",
    "Practice playground."
   ],
   "cell_type": "markdown",
   "metadata": {}
  },
  {
   "source": [
    "## Insertion Sort (Increasing)"
   ],
   "cell_type": "markdown",
   "metadata": {}
  },
  {
   "cell_type": "code",
   "execution_count": 1,
   "metadata": {},
   "outputs": [
    {
     "output_type": "stream",
     "name": "stdout",
     "text": [
      "[0, 1, 2, 3, 4, 5, 6, 7, 8, 9]\n"
     ]
    }
   ],
   "source": [
    "# Prepare an input array for sorting.\n",
    "array = [4, 5, 1, 2, 3, 7, 8, 9, 6, 0]\n",
    "\n",
    "def insertion_sort(arr):\n",
    "\n",
    "    for x in range(1, len(arr)):\n",
    "        # Keep current value.\n",
    "        key = arr[x]\n",
    "        # Initialize a pointer to indicate the target to compare.\n",
    "        # It should be the previous one at first.\n",
    "        i = x - 1\n",
    "        # Keep checking wether the target is greater than current value,\n",
    "        # or no more element to test.\n",
    "        while i >= 0 and key < arr[i]:\n",
    "            # If target is greater, switch their values.\n",
    "            arr[i + 1] = arr[i]\n",
    "            # And keep testing the ones before the target.\n",
    "            i -= 1\n",
    "        # Because `i` indicate the one will be tested,\n",
    "        # if test finished, the one after `i` is which one should be updated.\n",
    "        arr[i + 1] = key\n",
    "\n",
    "    return arr\n",
    "\n",
    "print(insertion_sort(array))"
   ]
  },
  {
   "source": [
    "```java\n",
    "public class Main {\n",
    "    public static void main(String[] args) {\n",
    "        int[] array = {4, 5, 1, 2, 3, 7, 8, 9, 6, 0};\n",
    "        System.out.println(Arrays.toString(array));\n",
    "        insertionSort(array);\n",
    "        System.out.println(Arrays.toString(array));\n",
    "    }\n",
    "    \n",
    "    private static void insertionSort(int[] arr) {\n",
    "        for (int i = 1; i < arr.length; i++) {\n",
    "            int val = arr[i];\n",
    "            int j = i - 1;\n",
    "            while (j >= 0 && arr[j] > val) {\n",
    "                arr[j + 1] = arr[j--];\n",
    "            }\n",
    "            arr[j + 1] = val;\n",
    "        }\n",
    "    }\n",
    "}\n",
    "```"
   ],
   "cell_type": "markdown",
   "metadata": {}
  },
  {
   "source": [
    "```javascript\n",
    "(function main() {\n",
    "    let arr = [4, 5, 1, 2, 3, 7, 8, 9, 6, 0]\n",
    "    console.log(arr);\n",
    "    for (let i = 1; i < arr.length; i++) {\n",
    "        let j = i - 1\n",
    "        let val = arr[i]\n",
    "        while (j >= 0 && arr[j] > val) {\n",
    "            arr[j + 1] = arr[j--]\n",
    "        }\n",
    "        arr[j + 1] = val\n",
    "    }\n",
    "    console.log(arr)\n",
    "}());\n",
    "```"
   ],
   "cell_type": "markdown",
   "metadata": {}
  },
  {
   "source": [
    "## Insertion Sort (Non-increasing)"
   ],
   "cell_type": "markdown",
   "metadata": {}
  },
  {
   "cell_type": "code",
   "execution_count": 2,
   "metadata": {},
   "outputs": [
    {
     "output_type": "stream",
     "name": "stdout",
     "text": [
      "[9, 8, 7, 6, 5, 4, 3, 2, 1, 0]\n"
     ]
    }
   ],
   "source": [
    "array = [4, 5, 1, 2, 3, 7, 8, 9, 6, 0]\n",
    "\n",
    "def insertion_sort_nonincreasing(arr):\n",
    "\n",
    "    for i in range(1, len(arr)):\n",
    "        val = arr[i]\n",
    "        j = i - 1\n",
    "        while j >= 0 and arr[j] < val:\n",
    "            arr[j + 1] = arr[j]\n",
    "            j -= 1\n",
    "        arr[j + 1] = val\n",
    "\n",
    "    return arr\n",
    "\n",
    "print(insertion_sort_nonincreasing(array))"
   ]
  },
  {
   "source": [
    "## Insertion Sort Recursive Version"
   ],
   "cell_type": "markdown",
   "metadata": {}
  },
  {
   "cell_type": "code",
   "execution_count": 3,
   "metadata": {},
   "outputs": [
    {
     "output_type": "stream",
     "name": "stdout",
     "text": [
      "[0, 1, 2, 3, 4, 5, 6, 7, 8, 9]\n"
     ]
    }
   ],
   "source": [
    "array = [4, 5, 1, 2, 3, 7, 8, 9, 6, 0]\n",
    "\n",
    "def insertion_sort_recursive(arr, n):\n",
    "    if n == 0:\n",
    "        return arr\n",
    "    arr = insertion_sort_recursive(arr, n - 1)\n",
    "    val = arr[n]\n",
    "    j = n - 1\n",
    "    while j >= 0 and arr[j] > val:\n",
    "        arr[j + 1] = arr[j]\n",
    "        j -= 1\n",
    "    arr[j + 1] = val\n",
    "    return arr\n",
    "\n",
    "print(insertion_sort_recursive(array, len(array) - 1))"
   ]
  },
  {
   "source": [
    "## Selection Sort\n",
    "\n",
    "Keep selecting the minimum one from the rest elements to swap to the proper position till no element left."
   ],
   "cell_type": "markdown",
   "metadata": {}
  },
  {
   "cell_type": "code",
   "execution_count": 3,
   "metadata": {},
   "outputs": [
    {
     "output_type": "stream",
     "name": "stdout",
     "text": [
      "[0, 1, 2, 3, 4, 5, 6, 7, 8, 9]\n"
     ]
    }
   ],
   "source": [
    "array = [4, 5, 1, 2, 3, 7, 8, 9, 6, 0]\n",
    "\n",
    "def selection_sort(arr):\n",
    "\n",
    "    for i in range(len(arr) - 1):\n",
    "        m = i\n",
    "        for j in range(i + 1, len(arr)):\n",
    "            if arr[j] < arr[m]:\n",
    "                m = j\n",
    "        arr[i], arr[m] = arr[m], arr[i]\n",
    "    \n",
    "    return arr\n",
    "\n",
    "print(selection_sort(array))"
   ]
  },
  {
   "cell_type": "code",
   "execution_count": 5,
   "metadata": {},
   "outputs": [
    {
     "output_type": "stream",
     "name": "stdout",
     "text": [
      "[9, 8, 7, 6, 5, 4, 3, 2, 1, 0]\n"
     ]
    }
   ],
   "source": [
    "array = [4, 5, 1, 2, 3, 7, 8, 9, 6, 0]\n",
    "\n",
    "def selection_sort_nonincreasing(arr):\n",
    "\n",
    "    for i in range(len(arr) - 1):\n",
    "        m = i\n",
    "        for j in range(i + 1, len(arr)):\n",
    "            if arr[j] > arr[m]:\n",
    "                m = j\n",
    "        arr[i], arr[m] = arr[m], arr[i]\n",
    "    \n",
    "    return arr\n",
    "\n",
    "print(selection_sort_nonincreasing(array))"
   ]
  },
  {
   "source": [
    "## Merge Sort\n",
    "\n",
    "O(nlgn).\n",
    "\n",
    "合并排序将数组按照长度二分到只剩唯一一个元素，这时这些一个元素的子数组自然完成了排序，然后在合并步骤中对所有邻居的子数组进行排序合并，直至完成整个数组的合并排序。\n",
    "\n",
    "这是合并排序的思想，作为程序实现来说，合并排序使用两个函数来完成排序过程。\n",
    "\n",
    "- 合并函数\n",
    "\n",
    "合并函数用来将两个已经排序过的子数组进行重新排序合并。\n",
    "\n",
    "在我们的例子中，排序过程是 in-place 的，所以在合并函数中，我们用两个变量 `l` 和 `r` 来储存这两个子数组的值，以便于在in-plcae排序的过程中不丢失需要排序的值。\n",
    "\n",
    "详细来说，在合并过程中，我们要操作原数组中下标从 `s1` 到 `e2` 的元素。我们先定义 `(s1, e1)` 为临近子数组A的元素在原数组中的开始和结束的下标， `(s2, e2)` 为临近子数组B在原数组中的开始和结束的下标，`s1` 到 `e2` 的元素即子数组A和B的并集，我们称之为AB。\n",
    "\n",
    "我们以AB的长度（`|AB|`)进行遍历，使用两个指针指向A和B的第一个元素，每次取两个指针指向的值中的最小值，并将被选中的指针移动到下一个元素。当完成遍历时，A和B数组的元素将完全填充到对应位置。\n",
    "\n",
    "- 递归函数\n",
    "\n",
    "合并函数只完成了合并排序的任务，这里还缺少一个调用合并函数的递归过程。\n",
    "\n",
    "递归函数有两个职责，其一为将数组进行二分，针对分出来的两个子数组分别调用递归过程进行再次二分；其二为判断二分后的数组只有一个元素时结束二分，开始执行合并过程。\n",
    "\n",
    "转化到代码上，当我们发现数组中只剩一个元素（即开始下标和结束下标一致时），我们不需要再二分或合并了，这是递进结束的时机，接下来程序一层一层回归，完成最终的合并排序。"
   ],
   "cell_type": "markdown",
   "metadata": {}
  },
  {
   "cell_type": "code",
   "execution_count": 21,
   "metadata": {},
   "outputs": [
    {
     "output_type": "stream",
     "name": "stdout",
     "text": [
      "[0, 1, 2, 3, 4, 5, 6, 7, 8, 9]\n"
     ]
    }
   ],
   "source": [
    "array = [4, 5, 1, 2, 3, 7, 8, 9, 6, 0]\n",
    "\n",
    "def merge(arr, s, m, e):\n",
    "    # Slicing in pythin results in `[s, e)`, \n",
    "    # so we should use e + 1 to indicate `[s, e]` (as `[s, e+1)`).\n",
    "    l, r = arr[s:m+1], arr[m+1:e+1]\n",
    "    # Add an infinity to indicate the end of the pointer.\n",
    "    l.append(float('inf'))\n",
    "    r.append(float('inf'))\n",
    "    i = j = 0\n",
    "    for k in range(s, e + 1):\n",
    "        if l[i] <= r[j]:\n",
    "            arr[k] = l[i]\n",
    "            i += 1\n",
    "        else:\n",
    "            arr[k] = r[j]\n",
    "            j += 1\n",
    "    \n",
    "\n",
    "def merge_sort(arr, s, e):\n",
    "    if s == e:\n",
    "        return\n",
    "    m = s + ((e - s) >> 1)\n",
    "    merge_sort(arr, s, m)\n",
    "    merge_sort(arr, m + 1, e)\n",
    "    merge(arr, s, m, e)\n",
    "\n",
    "merge_sort(array, 0, len(array) - 1)\n",
    "print(array)"
   ]
  },
  {
   "cell_type": "code",
   "execution_count": null,
   "metadata": {},
   "outputs": [],
   "source": []
  }
 ]
}