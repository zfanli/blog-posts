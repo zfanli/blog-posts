{
 "metadata": {
  "language_info": {
   "codemirror_mode": {
    "name": "ipython",
    "version": 3
   },
   "file_extension": ".py",
   "mimetype": "text/x-python",
   "name": "python",
   "nbconvert_exporter": "python",
   "pygments_lexer": "ipython3",
   "version": "3.8.2"
  },
  "orig_nbformat": 2,
  "kernelspec": {
   "name": "python382jvsc74a57bd031f2aee4e71d21fbe5cf8b01ff0e069b9275f58929596ceb00d14d90e3e16cd6",
   "display_name": "Python 3.8.2 64-bit"
  },
  "metadata": {
   "interpreter": {
    "hash": "31f2aee4e71d21fbe5cf8b01ff0e069b9275f58929596ceb00d14d90e3e16cd6"
   }
  }
 },
 "nbformat": 4,
 "nbformat_minor": 2,
 "cells": [
  {
   "source": [
    "# Divider and Conquer"
   ],
   "cell_type": "markdown",
   "metadata": {}
  },
  {
   "source": [
    "import time\n",
    "import statistics\n",
    "\n",
    "A = [13, -3, -25, 20, -3, -16, -23, 18, 20, -7, 12, -5, -22, 15, -4, 7] * 5\n",
    "print(len(A))\n",
    "\n",
    "repeate = 100\n",
    "\n",
    "# A = [-x for x in range(1, 100)]\n"
   ],
   "cell_type": "code",
   "metadata": {},
   "execution_count": 118,
   "outputs": [
    {
     "output_type": "stream",
     "name": "stdout",
     "text": [
      "80\n"
     ]
    }
   ]
  },
  {
   "source": [
    "## Maximun Subarray\n",
    "\n",
    "O(n lg n)"
   ],
   "cell_type": "markdown",
   "metadata": {}
  },
  {
   "cell_type": "code",
   "execution_count": 119,
   "metadata": {},
   "outputs": [
    {
     "output_type": "stream",
     "name": "stdout",
     "text": [
      "(47, 7, 16)\n"
     ]
    }
   ],
   "source": [
    "def find_max_crossing_subarray(A, low, mid, high):\n",
    "    left_sum, right_sum = float('-inf'), float('-inf')\n",
    "    left_idx, right_idx, sum = 0, 0, 0\n",
    "    for i in range(mid, low - 1, -1):\n",
    "        sum += A[i]\n",
    "        if sum > left_sum:\n",
    "            left_sum = sum\n",
    "            left_idx = i\n",
    "    sum = 0\n",
    "    for i in range(mid + 1, high + 1):\n",
    "        sum += A[i]\n",
    "        if sum > right_sum:\n",
    "            right_sum = sum\n",
    "            right_idx = i\n",
    "    return left_sum + right_sum, left_idx, right_idx\n",
    "\n",
    "def find_maximun_subarray(A, low, high):\n",
    "    if low == high:\n",
    "        return A[low], low, high\n",
    "    mid = (low + high) >> 1\n",
    "    left_sum, left_s, left_e = find_maximun_subarray(A, low, mid)\n",
    "    right_sum, right_s, right_e = find_maximun_subarray(A, mid + 1, high)\n",
    "    cross_sum, cross_s, cross_e = find_max_crossing_subarray(A, low, mid, high)\n",
    "    if left_sum >= right_sum and left_sum >= cross_sum:\n",
    "        return left_sum, left_s, left_e\n",
    "    elif right_sum >= left_sum and right_sum >= cross_sum:\n",
    "        return right_sum, right_s, right_e\n",
    "    else:\n",
    "        return cross_sum, cross_s, cross_e\n",
    "\n",
    "print(find_maximun_subarray(A, 0 , len(A) - 1))\n",
    "\n",
    "results_dnc = {}\n",
    "for i in range(len(A) - 1, 0, -1):\n",
    "    record = []\n",
    "    for _ in range(repeate + 1):\n",
    "        ts = time.time()\n",
    "        find_maximun_subarray(A, 0, i)\n",
    "        record.append(time.time() - ts)\n",
    "    results_dnc[i] = statistics.mean(record)\n",
    "# print(results_dnc)\n"
   ]
  },
  {
   "source": [
    "### Brute-force solution\n",
    "\n",
    "O(n^2)\n"
   ],
   "cell_type": "markdown",
   "metadata": {}
  },
  {
   "cell_type": "code",
   "execution_count": 120,
   "metadata": {},
   "outputs": [
    {
     "output_type": "stream",
     "name": "stdout",
     "text": [
      "(47, 7, 16)\n",
      "{79: False, 78: False, 77: False, 76: False, 75: False, 74: False, 73: False, 72: False, 71: False, 70: False, 69: False, 68: False, 67: False, 66: False, 65: False, 64: False, 63: False, 62: False, 61: False, 60: False, 59: False, 58: False, 57: False, 56: False, 55: False, 54: False, 53: False, 52: False, 51: False, 50: False, 49: False, 48: False, 47: False, 46: False, 45: False, 44: False, 43: False, 42: False, 41: False, 40: False, 39: False, 38: False, 37: False, 36: False, 35: False, 34: False, 33: False, 32: False, 31: False, 30: False, 29: False, 28: False, 27: False, 26: False, 25: False, 24: False, 23: False, 22: False, 21: False, 20: False, 19: False, 18: False, 17: False, 16: False, 15: False, 14: False, 13: False, 12: False, 11: True, 10: True, 9: True, 8: True, 7: True, 6: True, 5: True, 4: True, 3: True, 2: True, 1: True}\n"
     ]
    }
   ],
   "source": [
    "def find_maximum_subarray_the_brute_force_way(A):\n",
    "    total, low, high  = 0, 0, 0\n",
    "    for i in range(len(A)):\n",
    "        for j in range(len(A) - 1, i, -1):\n",
    "            _total = sum(A[i:j+1])\n",
    "            if _total > total:\n",
    "                total = _total\n",
    "                low, high = i, j\n",
    "    return total, low, high\n",
    "\n",
    "print(find_maximum_subarray_the_brute_force_way(A))\n",
    "\n",
    "results_bf = {}\n",
    "for i in range(len(A) - 1, 0, -1):\n",
    "    record = []\n",
    "    for _ in range(repeate + 1):\n",
    "        ts = time.time()\n",
    "        find_maximum_subarray_the_brute_force_way(A[:i+1])\n",
    "        record.append(time.time() - ts)\n",
    "    results_bf[i] = statistics.mean(record)\n",
    "\n",
    "results = {}\n",
    "for k in results_dnc:\n",
    "    results[k] = results_dnc[k] >= results_bf[k]\n",
    "print(results)"
   ]
  },
  {
   "cell_type": "code",
   "execution_count": 127,
   "metadata": {},
   "outputs": [
    {
     "output_type": "stream",
     "name": "stdout",
     "text": [
      "{79: False, 78: False, 77: False, 76: False, 75: False, 74: False, 73: False, 72: False, 71: False, 70: False, 69: False, 68: False, 67: False, 66: False, 65: False, 64: False, 63: False, 62: False, 61: False, 60: False, 59: False, 58: False, 57: False, 56: False, 55: False, 54: False, 53: False, 52: False, 51: False, 50: False, 49: False, 48: False, 47: False, 46: False, 45: False, 44: False, 43: False, 42: False, 41: False, 40: False, 39: False, 38: False, 37: False, 36: False, 35: False, 34: False, 33: False, 32: False, 31: False, 30: False, 29: False, 28: False, 27: False, 26: False, 25: False, 24: False, 23: False, 22: False, 21: False, 20: False, 19: False, 18: False, 17: False, 16: False, 15: False, 14: False, 13: False, 12: False, 11: False, 10: False, 9: False, 8: False, 7: True, 6: True, 5: True, 4: True, 3: False, 2: True, 1: True}\n"
     ]
    }
   ],
   "source": [
    "def find_maximum_subarray_the_mixed_way(A, low, high):\n",
    "    if high - low <= 8:\n",
    "        return find_maximum_subarray_the_brute_force_way(A[low:high+1])\n",
    "    mid = (low + high) >> 1\n",
    "    left_sum, left_s, left_e = find_maximum_subarray_the_mixed_way(A, low, mid)\n",
    "    right_sum, right_s, right_e = find_maximum_subarray_the_mixed_way(A, mid + 1, high)\n",
    "    cross_sum, cross_s, cross_e = find_max_crossing_subarray(A, low, mid, high)\n",
    "    if left_sum >= right_sum and left_sum >= cross_sum:\n",
    "        return left_sum, left_s, left_e\n",
    "    elif right_sum >= left_sum and right_sum >= cross_sum:\n",
    "        return right_sum, right_s, right_e\n",
    "    else:\n",
    "        return cross_sum, cross_s, cross_e\n",
    "\n",
    "results_mix = {}\n",
    "for i in range(len(A) - 1, 0, -1):\n",
    "    record = []\n",
    "    for _ in range(repeate + 1):\n",
    "        ts = time.time()\n",
    "        find_maximum_subarray_the_mixed_way(A, 0, i)\n",
    "        record.append(time.time() - ts)\n",
    "    results_mix[i] = statistics.mean(record)\n",
    "\n",
    "for k in results_mix:\n",
    "    results[k] = results_mix[k] >= results_bf[k]\n",
    "print(results)"
   ]
  },
  {
   "cell_type": "code",
   "execution_count": 130,
   "metadata": {},
   "outputs": [
    {
     "output_type": "stream",
     "name": "stdout",
     "text": [
      "(47, 6, 16)\n(50, 1, 2)\n"
     ]
    }
   ],
   "source": [
    "def find_maximum_subarray_without_recursion(A):\n",
    "    maxsum, begin, end = A[0], 0, 0\n",
    "    B = [A[0]]\n",
    "    for i in range(1, len(A)):\n",
    "        B.append(B[-1] + A[i])\n",
    "        for j in range(i + 1):\n",
    "            _sum = B[i] - B[j] if j != i else B[i]\n",
    "            if _sum > maxsum:\n",
    "                maxsum, begin, end = _sum, j, i\n",
    "    return maxsum, begin, end\n",
    "\n",
    "print(find_maximum_subarray_without_recursion(A))\n",
    "print(find_maximum_subarray_without_recursion( [20,-100,50]))\n",
    "\n",
    "# results_nore = {}\n",
    "# for i in range(len(A) - 1, 0, -1):\n",
    "#     record = []\n",
    "#     for _ in range(repeate + 1):\n",
    "#         ts = time.time()\n",
    "#         find_maximum_subarray_without_recursion(A)\n",
    "#         record.append(time.time() - ts)\n",
    "#     results_nore[i] = statistics.mean(record)\n",
    "\n",
    "# for k in results_nore:\n",
    "#     results[k] = results_nore[k] >= results_bf[k]\n",
    "# print(results)"
   ]
  },
  {
   "cell_type": "code",
   "execution_count": null,
   "metadata": {},
   "outputs": [],
   "source": []
  }
 ]
}